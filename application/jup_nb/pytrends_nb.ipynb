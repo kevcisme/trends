{
 "cells": [
  {
   "cell_type": "code",
   "execution_count": 1,
   "metadata": {},
   "outputs": [],
   "source": [
    "import jellyfish\n",
    "import pandas as pd\n",
    "from pytrends.request import TrendReq"
   ]
  },
  {
   "cell_type": "code",
   "execution_count": 2,
   "metadata": {},
   "outputs": [],
   "source": [
    "pytrends = TrendReq(hl='en-US', tz=360)"
   ]
  },
  {
   "cell_type": "code",
   "execution_count": 3,
   "metadata": {},
   "outputs": [
    {
     "data": {
      "text/html": [
       "<div>\n",
       "<style scoped>\n",
       "    .dataframe tbody tr th:only-of-type {\n",
       "        vertical-align: middle;\n",
       "    }\n",
       "\n",
       "    .dataframe tbody tr th {\n",
       "        vertical-align: top;\n",
       "    }\n",
       "\n",
       "    .dataframe thead th {\n",
       "        text-align: right;\n",
       "    }\n",
       "</style>\n",
       "<table border=\"1\" class=\"dataframe\">\n",
       "  <thead>\n",
       "    <tr style=\"text-align: right;\">\n",
       "      <th></th>\n",
       "      <th>0</th>\n",
       "    </tr>\n",
       "  </thead>\n",
       "  <tbody>\n",
       "    <tr>\n",
       "      <th>0</th>\n",
       "      <td>CNN live</td>\n",
       "    </tr>\n",
       "    <tr>\n",
       "      <th>1</th>\n",
       "      <td>Pi Day</td>\n",
       "    </tr>\n",
       "    <tr>\n",
       "      <th>2</th>\n",
       "      <td>Trish Regan</td>\n",
       "    </tr>\n",
       "    <tr>\n",
       "      <th>3</th>\n",
       "      <td>Conor McGregor</td>\n",
       "    </tr>\n",
       "    <tr>\n",
       "      <th>4</th>\n",
       "      <td>Ronaldinho</td>\n",
       "    </tr>\n",
       "    <tr>\n",
       "      <th>5</th>\n",
       "      <td>Frozen 2 Disney</td>\n",
       "    </tr>\n",
       "    <tr>\n",
       "      <th>6</th>\n",
       "      <td>Westworld</td>\n",
       "    </tr>\n",
       "    <tr>\n",
       "      <th>7</th>\n",
       "      <td>Spain</td>\n",
       "    </tr>\n",
       "    <tr>\n",
       "      <th>8</th>\n",
       "      <td>Xavier Rhodes</td>\n",
       "    </tr>\n",
       "    <tr>\n",
       "      <th>9</th>\n",
       "      <td>Jack Ma</td>\n",
       "    </tr>\n",
       "    <tr>\n",
       "      <th>10</th>\n",
       "      <td>UFC Fight Night</td>\n",
       "    </tr>\n",
       "    <tr>\n",
       "      <th>11</th>\n",
       "      <td>Paracetamol</td>\n",
       "    </tr>\n",
       "    <tr>\n",
       "      <th>12</th>\n",
       "      <td>Rise of Skywalker</td>\n",
       "    </tr>\n",
       "    <tr>\n",
       "      <th>13</th>\n",
       "      <td>Rick Pitino</td>\n",
       "    </tr>\n",
       "    <tr>\n",
       "      <th>14</th>\n",
       "      <td>Domestic travel ban</td>\n",
       "    </tr>\n",
       "    <tr>\n",
       "      <th>15</th>\n",
       "      <td>Andrew Gillum</td>\n",
       "    </tr>\n",
       "    <tr>\n",
       "      <th>16</th>\n",
       "      <td>Bill Gates</td>\n",
       "    </tr>\n",
       "    <tr>\n",
       "      <th>17</th>\n",
       "      <td>Friday the 13th</td>\n",
       "    </tr>\n",
       "    <tr>\n",
       "      <th>18</th>\n",
       "      <td>Illinois school closings</td>\n",
       "    </tr>\n",
       "    <tr>\n",
       "      <th>19</th>\n",
       "      <td>Disney World closures</td>\n",
       "    </tr>\n",
       "  </tbody>\n",
       "</table>\n",
       "</div>"
      ],
      "text/plain": [
       "                           0\n",
       "0                   CNN live\n",
       "1                     Pi Day\n",
       "2                Trish Regan\n",
       "3             Conor McGregor\n",
       "4                 Ronaldinho\n",
       "5            Frozen 2 Disney\n",
       "6                  Westworld\n",
       "7                      Spain\n",
       "8              Xavier Rhodes\n",
       "9                    Jack Ma\n",
       "10           UFC Fight Night\n",
       "11               Paracetamol\n",
       "12         Rise of Skywalker\n",
       "13               Rick Pitino\n",
       "14       Domestic travel ban\n",
       "15             Andrew Gillum\n",
       "16                Bill Gates\n",
       "17           Friday the 13th\n",
       "18  Illinois school closings\n",
       "19     Disney World closures"
      ]
     },
     "execution_count": 3,
     "metadata": {},
     "output_type": "execute_result"
    }
   ],
   "source": [
    "pytrends.trending_searches()"
   ]
  },
  {
   "cell_type": "code",
   "execution_count": 4,
   "metadata": {},
   "outputs": [
    {
     "data": {
      "text/plain": [
       "'CNN live'"
      ]
     },
     "execution_count": 4,
     "metadata": {},
     "output_type": "execute_result"
    }
   ],
   "source": [
    "pytrends.trending_searches()[0][0]"
   ]
  },
  {
   "cell_type": "code",
   "execution_count": 5,
   "metadata": {},
   "outputs": [],
   "source": [
    "first_trend = pytrends.trending_searches()[0][0]\n",
    "second_trend = pytrends.trending_searches()[0][1]\n",
    "third_trend = pytrends.trending_searches()[0][2]\n",
    "fourth_trend = pytrends.trending_searches()[0][3]\n",
    "fifth_trend = pytrends.trending_searches()[0][4]"
   ]
  },
  {
   "cell_type": "code",
   "execution_count": 6,
   "metadata": {},
   "outputs": [
    {
     "data": {
      "text/plain": [
       "'Pi Day'"
      ]
     },
     "execution_count": 6,
     "metadata": {},
     "output_type": "execute_result"
    }
   ],
   "source": [
    "second_trend"
   ]
  },
  {
   "cell_type": "code",
   "execution_count": 7,
   "metadata": {},
   "outputs": [
    {
     "data": {
      "text/plain": [
       "'Ronaldinho'"
      ]
     },
     "execution_count": 7,
     "metadata": {},
     "output_type": "execute_result"
    }
   ],
   "source": [
    "fifth_trend"
   ]
  },
  {
   "cell_type": "markdown",
   "metadata": {},
   "source": [
    "realizing that sometimes two trending searches could be highly related to one another. case in point when run on 03/14/2020, the second trend was `Pi Day` and the fifth trend was `Pi Day 2020`"
   ]
  },
  {
   "cell_type": "code",
   "execution_count": 8,
   "metadata": {},
   "outputs": [
    {
     "name": "stdout",
     "output_type": "stream",
     "text": [
      "CNN live\n",
      "Pi Day\n",
      "Trish Regan\n",
      "Conor McGregor\n",
      "Ronaldinho\n"
     ]
    }
   ],
   "source": [
    "for i in range(len(pytrends.trending_searches()))[:5]:\n",
    "    print(pytrends.trending_searches()[0][i])"
   ]
  },
  {
   "cell_type": "markdown",
   "metadata": {},
   "source": [
    "Using jellyfish we can calculate string similarity using the metric : $argmin$"
   ]
  },
  {
   "cell_type": "code",
   "execution_count": 10,
   "metadata": {},
   "outputs": [
    {
     "data": {
      "text/plain": [
       "5"
      ]
     },
     "execution_count": 10,
     "metadata": {},
     "output_type": "execute_result"
    }
   ],
   "source": [
    "jellyfish.levenshtein_distance(second_trend, fifth_trend)"
   ]
  },
  {
   "cell_type": "code",
   "execution_count": 11,
   "metadata": {},
   "outputs": [
    {
     "data": {
      "text/plain": [
       "7"
      ]
     },
     "execution_count": 11,
     "metadata": {},
     "output_type": "execute_result"
    }
   ],
   "source": [
    "jellyfish.levenshtein_distance(first_trend, second_trend)"
   ]
  },
  {
   "cell_type": "code",
   "execution_count": 12,
   "metadata": {},
   "outputs": [
    {
     "data": {
      "text/plain": [
       "5"
      ]
     },
     "execution_count": 12,
     "metadata": {},
     "output_type": "execute_result"
    }
   ],
   "source": [
    "jellyfish.damerau_levenshtein_distance(second_trend, fifth_trend)"
   ]
  },
  {
   "cell_type": "code",
   "execution_count": 13,
   "metadata": {},
   "outputs": [
    {
     "data": {
      "text/plain": [
       "0.8484848484848485"
      ]
     },
     "execution_count": 13,
     "metadata": {},
     "output_type": "execute_result"
    }
   ],
   "source": [
    "jellyfish.jaro_distance(second_trend, fifth_trend)"
   ]
  },
  {
   "cell_type": "code",
   "execution_count": 14,
   "metadata": {},
   "outputs": [
    {
     "data": {
      "text/plain": [
       "0.4305555555555555"
      ]
     },
     "execution_count": 14,
     "metadata": {},
     "output_type": "execute_result"
    }
   ],
   "source": [
    "jellyfish.jaro_distance(first_trend, second_trend)"
   ]
  },
  {
   "cell_type": "code",
   "execution_count": 15,
   "metadata": {},
   "outputs": [
    {
     "data": {
      "text/plain": [
       "0.9444444444444445"
      ]
     },
     "execution_count": 15,
     "metadata": {},
     "output_type": "execute_result"
    }
   ],
   "source": [
    "jellyfish.jaro_distance('ip day', 'pi day')"
   ]
  },
  {
   "cell_type": "code",
   "execution_count": 16,
   "metadata": {},
   "outputs": [
    {
     "data": {
      "text/plain": [
       "0.41919191919191917"
      ]
     },
     "execution_count": 16,
     "metadata": {},
     "output_type": "execute_result"
    }
   ],
   "source": [
    "jellyfish.jaro_distance('2020 pi day', 'pi day')"
   ]
  },
  {
   "cell_type": "code",
   "execution_count": 17,
   "metadata": {},
   "outputs": [
    {
     "data": {
      "text/plain": [
       "0"
      ]
     },
     "execution_count": 17,
     "metadata": {},
     "output_type": "execute_result"
    }
   ],
   "source": [
    "jellyfish.damerau_levenshtein_distance('pi day', 'pi day')"
   ]
  },
  {
   "cell_type": "code",
   "execution_count": 18,
   "metadata": {},
   "outputs": [
    {
     "data": {
      "text/plain": [
       "True"
      ]
     },
     "execution_count": 18,
     "metadata": {},
     "output_type": "execute_result"
    }
   ],
   "source": [
    "jellyfish.match_rating_comparison(second_trend, 'pye day') == True"
   ]
  },
  {
   "cell_type": "code",
   "execution_count": 19,
   "metadata": {},
   "outputs": [],
   "source": [
    "trends = pytrends.trending_searches()\n",
    "trends.columns = ['trend']"
   ]
  },
  {
   "cell_type": "code",
   "execution_count": 21,
   "metadata": {},
   "outputs": [],
   "source": [
    "dld = lambda x, y: jellyfish.damerau_levenshtein_distance(x, y)"
   ]
  },
  {
   "cell_type": "code",
   "execution_count": 23,
   "metadata": {},
   "outputs": [],
   "source": [
    "distance_list = [i for i in trends['trend'].values]"
   ]
  },
  {
   "cell_type": "code",
   "execution_count": 24,
   "metadata": {},
   "outputs": [],
   "source": [
    "dp = distance_list[0]"
   ]
  },
  {
   "cell_type": "code",
   "execution_count": 25,
   "metadata": {},
   "outputs": [],
   "source": [
    "distance_lists = []\n",
    "for i in range(19):\n",
    "    dp = distance_list[i]\n",
    "    dps_similarity_index = list(enumerate([jellyfish.damerau_levenshtein_distance(dp, j) for j in distance_list]))\n",
    "    dps_similarity_index.sort(key=lambda x:x[1])\n",
    "    distance_lists.append(dps_similarity_index)"
   ]
  },
  {
   "cell_type": "code",
   "execution_count": 26,
   "metadata": {},
   "outputs": [
    {
     "name": "stdout",
     "output_type": "stream",
     "text": [
      "0\n",
      "also, 7\n",
      "1\n",
      "also, 5\n",
      "2\n",
      "also, 8\n",
      "3\n",
      "also, 8\n",
      "4\n",
      "also, 5\n",
      "5\n",
      "also, 11\n",
      "6\n",
      "also, 9\n",
      "7\n",
      "also, 10\n",
      "8\n",
      "also, 6\n",
      "9\n",
      "also, 11\n",
      "10\n",
      "also, 7\n",
      "11\n",
      "also, 11\n",
      "12\n",
      "also, 11\n",
      "13\n",
      "also, 15\n",
      "14\n",
      "also, 27\n",
      "15\n",
      "also, 9\n",
      "16\n",
      "also, 16\n",
      "17\n",
      "also, 14\n",
      "18\n",
      "also, 15\n"
     ]
    }
   ],
   "source": [
    "for i in distance_lists:\n",
    "    print( i[0][0])\n",
    "    print(\"also,\", i[1][1])\n",
    "   #if i[0][0] == i[0][0]:\n",
    "   #    print(i)"
   ]
  },
  {
   "cell_type": "code",
   "execution_count": 37,
   "metadata": {},
   "outputs": [],
   "source": [
    "trends_trans = pd.DataFrame(trends.T).reset_index(drop=True)"
   ]
  },
  {
   "cell_type": "code",
   "execution_count": 38,
   "metadata": {},
   "outputs": [
    {
     "data": {
      "text/html": [
       "<div>\n",
       "<style scoped>\n",
       "    .dataframe tbody tr th:only-of-type {\n",
       "        vertical-align: middle;\n",
       "    }\n",
       "\n",
       "    .dataframe tbody tr th {\n",
       "        vertical-align: top;\n",
       "    }\n",
       "\n",
       "    .dataframe thead th {\n",
       "        text-align: right;\n",
       "    }\n",
       "</style>\n",
       "<table border=\"1\" class=\"dataframe\">\n",
       "  <thead>\n",
       "    <tr style=\"text-align: right;\">\n",
       "      <th></th>\n",
       "      <th>0</th>\n",
       "      <th>1</th>\n",
       "      <th>2</th>\n",
       "      <th>3</th>\n",
       "      <th>4</th>\n",
       "      <th>5</th>\n",
       "      <th>6</th>\n",
       "      <th>7</th>\n",
       "      <th>8</th>\n",
       "      <th>9</th>\n",
       "      <th>10</th>\n",
       "      <th>11</th>\n",
       "      <th>12</th>\n",
       "      <th>13</th>\n",
       "      <th>14</th>\n",
       "      <th>15</th>\n",
       "      <th>16</th>\n",
       "      <th>17</th>\n",
       "      <th>18</th>\n",
       "      <th>19</th>\n",
       "    </tr>\n",
       "  </thead>\n",
       "  <tbody>\n",
       "    <tr>\n",
       "      <th>0</th>\n",
       "      <td>CNN live</td>\n",
       "      <td>Pi Day</td>\n",
       "      <td>Trish Regan</td>\n",
       "      <td>Ronaldinho</td>\n",
       "      <td>Pi Day 2020</td>\n",
       "      <td>Conor McGregor</td>\n",
       "      <td>Xavier Rhodes</td>\n",
       "      <td>Frozen2 Disney</td>\n",
       "      <td>Jack Ma</td>\n",
       "      <td>Andrew Gillum</td>\n",
       "      <td>Bill Gates</td>\n",
       "      <td>Friday the 13th</td>\n",
       "      <td>Jay Electronica</td>\n",
       "      <td>Disney World closures</td>\n",
       "      <td>Coronavirus disease 2019 Prevention</td>\n",
       "      <td>Ivanka Trump</td>\n",
       "      <td>Animal Crossing Switch</td>\n",
       "      <td>Lost Girls Netflix</td>\n",
       "      <td>Illinois school closings</td>\n",
       "      <td>Grace VanderWaal</td>\n",
       "    </tr>\n",
       "  </tbody>\n",
       "</table>\n",
       "</div>"
      ],
      "text/plain": [
       "          0       1            2           3            4               5  \\\n",
       "0  CNN live  Pi Day  Trish Regan  Ronaldinho  Pi Day 2020  Conor McGregor   \n",
       "\n",
       "               6               7        8              9          10  \\\n",
       "0  Xavier Rhodes  Frozen2 Disney  Jack Ma  Andrew Gillum  Bill Gates   \n",
       "\n",
       "                11               12                     13  \\\n",
       "0  Friday the 13th  Jay Electronica  Disney World closures   \n",
       "\n",
       "                                    14            15                      16  \\\n",
       "0  Coronavirus disease 2019 Prevention  Ivanka Trump  Animal Crossing Switch   \n",
       "\n",
       "                   17                        18                19  \n",
       "0  Lost Girls Netflix  Illinois school closings  Grace VanderWaal  "
      ]
     },
     "execution_count": 38,
     "metadata": {},
     "output_type": "execute_result"
    }
   ],
   "source": [
    "trends_trans"
   ]
  },
  {
   "cell_type": "code",
   "execution_count": 76,
   "metadata": {},
   "outputs": [],
   "source": [
    "dfs = []\n",
    "for i in range(len(trends)): \n",
    "    for j in trends_trans:\n",
    "        counter = j + 1\n",
    "        # calculate damerau levenshtein distance between two strings\n",
    "        distance = jellyfish.damerau_levenshtein_distance(trends['trend'][i], trends_trans[j][0])\n",
    "        jaro_distance = jellyfish.jaro_distance(trends['trend'][i], trends_trans[j][0])\n",
    "        # create a temp dataframe then append to a list of all dataframes\n",
    "        temp_df = pd.DataFrame({'firststring':trends['trend'][i], \n",
    "                                'secondstring':trends_trans[j][0], \n",
    "                                'thedistance':distance,\n",
    "                               'jaro_distance':jaro_distance}, index=[counter])\n",
    "        dfs.append(temp_df)"
   ]
  },
  {
   "cell_type": "code",
   "execution_count": 77,
   "metadata": {},
   "outputs": [],
   "source": [
    "ldistance_df = pd.concat(dfs)"
   ]
  },
  {
   "cell_type": "code",
   "execution_count": 81,
   "metadata": {},
   "outputs": [
    {
     "data": {
      "text/html": [
       "<div>\n",
       "<style scoped>\n",
       "    .dataframe tbody tr th:only-of-type {\n",
       "        vertical-align: middle;\n",
       "    }\n",
       "\n",
       "    .dataframe tbody tr th {\n",
       "        vertical-align: top;\n",
       "    }\n",
       "\n",
       "    .dataframe thead th {\n",
       "        text-align: right;\n",
       "    }\n",
       "</style>\n",
       "<table border=\"1\" class=\"dataframe\">\n",
       "  <thead>\n",
       "    <tr style=\"text-align: right;\">\n",
       "      <th></th>\n",
       "      <th>firststring</th>\n",
       "      <th>secondstring</th>\n",
       "      <th>thedistance</th>\n",
       "      <th>jaro_distance</th>\n",
       "    </tr>\n",
       "  </thead>\n",
       "  <tbody>\n",
       "    <tr>\n",
       "      <th>1</th>\n",
       "      <td>CNN live</td>\n",
       "      <td>CNN live</td>\n",
       "      <td>0</td>\n",
       "      <td>1.000000</td>\n",
       "    </tr>\n",
       "    <tr>\n",
       "      <th>2</th>\n",
       "      <td>Pi Day</td>\n",
       "      <td>Pi Day</td>\n",
       "      <td>0</td>\n",
       "      <td>1.000000</td>\n",
       "    </tr>\n",
       "    <tr>\n",
       "      <th>5</th>\n",
       "      <td>Pi Day</td>\n",
       "      <td>Pi Day 2020</td>\n",
       "      <td>5</td>\n",
       "      <td>0.848485</td>\n",
       "    </tr>\n",
       "    <tr>\n",
       "      <th>3</th>\n",
       "      <td>Trish Regan</td>\n",
       "      <td>Trish Regan</td>\n",
       "      <td>0</td>\n",
       "      <td>1.000000</td>\n",
       "    </tr>\n",
       "    <tr>\n",
       "      <th>4</th>\n",
       "      <td>Ronaldinho</td>\n",
       "      <td>Ronaldinho</td>\n",
       "      <td>0</td>\n",
       "      <td>1.000000</td>\n",
       "    </tr>\n",
       "    <tr>\n",
       "      <th>2</th>\n",
       "      <td>Pi Day 2020</td>\n",
       "      <td>Pi Day</td>\n",
       "      <td>5</td>\n",
       "      <td>0.848485</td>\n",
       "    </tr>\n",
       "    <tr>\n",
       "      <th>5</th>\n",
       "      <td>Pi Day 2020</td>\n",
       "      <td>Pi Day 2020</td>\n",
       "      <td>0</td>\n",
       "      <td>1.000000</td>\n",
       "    </tr>\n",
       "    <tr>\n",
       "      <th>6</th>\n",
       "      <td>Conor McGregor</td>\n",
       "      <td>Conor McGregor</td>\n",
       "      <td>0</td>\n",
       "      <td>1.000000</td>\n",
       "    </tr>\n",
       "    <tr>\n",
       "      <th>7</th>\n",
       "      <td>Xavier Rhodes</td>\n",
       "      <td>Xavier Rhodes</td>\n",
       "      <td>0</td>\n",
       "      <td>1.000000</td>\n",
       "    </tr>\n",
       "    <tr>\n",
       "      <th>8</th>\n",
       "      <td>Frozen2 Disney</td>\n",
       "      <td>Frozen2 Disney</td>\n",
       "      <td>0</td>\n",
       "      <td>1.000000</td>\n",
       "    </tr>\n",
       "    <tr>\n",
       "      <th>9</th>\n",
       "      <td>Jack Ma</td>\n",
       "      <td>Jack Ma</td>\n",
       "      <td>0</td>\n",
       "      <td>1.000000</td>\n",
       "    </tr>\n",
       "    <tr>\n",
       "      <th>10</th>\n",
       "      <td>Andrew Gillum</td>\n",
       "      <td>Andrew Gillum</td>\n",
       "      <td>0</td>\n",
       "      <td>1.000000</td>\n",
       "    </tr>\n",
       "    <tr>\n",
       "      <th>11</th>\n",
       "      <td>Bill Gates</td>\n",
       "      <td>Bill Gates</td>\n",
       "      <td>0</td>\n",
       "      <td>1.000000</td>\n",
       "    </tr>\n",
       "    <tr>\n",
       "      <th>12</th>\n",
       "      <td>Friday the 13th</td>\n",
       "      <td>Friday the 13th</td>\n",
       "      <td>0</td>\n",
       "      <td>1.000000</td>\n",
       "    </tr>\n",
       "    <tr>\n",
       "      <th>13</th>\n",
       "      <td>Jay Electronica</td>\n",
       "      <td>Jay Electronica</td>\n",
       "      <td>0</td>\n",
       "      <td>1.000000</td>\n",
       "    </tr>\n",
       "    <tr>\n",
       "      <th>14</th>\n",
       "      <td>Disney World closures</td>\n",
       "      <td>Disney World closures</td>\n",
       "      <td>0</td>\n",
       "      <td>1.000000</td>\n",
       "    </tr>\n",
       "    <tr>\n",
       "      <th>15</th>\n",
       "      <td>Coronavirus disease 2019 Prevention</td>\n",
       "      <td>Coronavirus disease 2019 Prevention</td>\n",
       "      <td>0</td>\n",
       "      <td>1.000000</td>\n",
       "    </tr>\n",
       "    <tr>\n",
       "      <th>16</th>\n",
       "      <td>Ivanka Trump</td>\n",
       "      <td>Ivanka Trump</td>\n",
       "      <td>0</td>\n",
       "      <td>1.000000</td>\n",
       "    </tr>\n",
       "    <tr>\n",
       "      <th>17</th>\n",
       "      <td>Animal Crossing Switch</td>\n",
       "      <td>Animal Crossing Switch</td>\n",
       "      <td>0</td>\n",
       "      <td>1.000000</td>\n",
       "    </tr>\n",
       "    <tr>\n",
       "      <th>18</th>\n",
       "      <td>Lost Girls Netflix</td>\n",
       "      <td>Lost Girls Netflix</td>\n",
       "      <td>0</td>\n",
       "      <td>1.000000</td>\n",
       "    </tr>\n",
       "    <tr>\n",
       "      <th>19</th>\n",
       "      <td>Illinois school closings</td>\n",
       "      <td>Illinois school closings</td>\n",
       "      <td>0</td>\n",
       "      <td>1.000000</td>\n",
       "    </tr>\n",
       "    <tr>\n",
       "      <th>20</th>\n",
       "      <td>Grace VanderWaal</td>\n",
       "      <td>Grace VanderWaal</td>\n",
       "      <td>0</td>\n",
       "      <td>1.000000</td>\n",
       "    </tr>\n",
       "  </tbody>\n",
       "</table>\n",
       "</div>"
      ],
      "text/plain": [
       "                            firststring                         secondstring  \\\n",
       "1                              CNN live                             CNN live   \n",
       "2                                Pi Day                               Pi Day   \n",
       "5                                Pi Day                          Pi Day 2020   \n",
       "3                           Trish Regan                          Trish Regan   \n",
       "4                            Ronaldinho                           Ronaldinho   \n",
       "2                           Pi Day 2020                               Pi Day   \n",
       "5                           Pi Day 2020                          Pi Day 2020   \n",
       "6                        Conor McGregor                       Conor McGregor   \n",
       "7                         Xavier Rhodes                        Xavier Rhodes   \n",
       "8                        Frozen2 Disney                       Frozen2 Disney   \n",
       "9                               Jack Ma                              Jack Ma   \n",
       "10                        Andrew Gillum                        Andrew Gillum   \n",
       "11                           Bill Gates                           Bill Gates   \n",
       "12                      Friday the 13th                      Friday the 13th   \n",
       "13                      Jay Electronica                      Jay Electronica   \n",
       "14                Disney World closures                Disney World closures   \n",
       "15  Coronavirus disease 2019 Prevention  Coronavirus disease 2019 Prevention   \n",
       "16                         Ivanka Trump                         Ivanka Trump   \n",
       "17               Animal Crossing Switch               Animal Crossing Switch   \n",
       "18                   Lost Girls Netflix                   Lost Girls Netflix   \n",
       "19             Illinois school closings             Illinois school closings   \n",
       "20                     Grace VanderWaal                     Grace VanderWaal   \n",
       "\n",
       "    thedistance  jaro_distance  \n",
       "1             0       1.000000  \n",
       "2             0       1.000000  \n",
       "5             5       0.848485  \n",
       "3             0       1.000000  \n",
       "4             0       1.000000  \n",
       "2             5       0.848485  \n",
       "5             0       1.000000  \n",
       "6             0       1.000000  \n",
       "7             0       1.000000  \n",
       "8             0       1.000000  \n",
       "9             0       1.000000  \n",
       "10            0       1.000000  \n",
       "11            0       1.000000  \n",
       "12            0       1.000000  \n",
       "13            0       1.000000  \n",
       "14            0       1.000000  \n",
       "15            0       1.000000  \n",
       "16            0       1.000000  \n",
       "17            0       1.000000  \n",
       "18            0       1.000000  \n",
       "19            0       1.000000  \n",
       "20            0       1.000000  "
      ]
     },
     "execution_count": 81,
     "metadata": {},
     "output_type": "execute_result"
    }
   ],
   "source": [
    "ldistance_df[ldistance_df['jaro_distance'] > .75]"
   ]
  },
  {
   "cell_type": "code",
   "execution_count": 83,
   "metadata": {},
   "outputs": [
    {
     "data": {
      "text/html": [
       "<div>\n",
       "<style scoped>\n",
       "    .dataframe tbody tr th:only-of-type {\n",
       "        vertical-align: middle;\n",
       "    }\n",
       "\n",
       "    .dataframe tbody tr th {\n",
       "        vertical-align: top;\n",
       "    }\n",
       "\n",
       "    .dataframe thead th {\n",
       "        text-align: right;\n",
       "    }\n",
       "</style>\n",
       "<table border=\"1\" class=\"dataframe\">\n",
       "  <thead>\n",
       "    <tr style=\"text-align: right;\">\n",
       "      <th></th>\n",
       "      <th>firststring</th>\n",
       "      <th>secondstring</th>\n",
       "      <th>thedistance</th>\n",
       "      <th>jaro_distance</th>\n",
       "    </tr>\n",
       "  </thead>\n",
       "  <tbody>\n",
       "    <tr>\n",
       "      <th>5</th>\n",
       "      <td>Pi Day</td>\n",
       "      <td>Pi Day 2020</td>\n",
       "      <td>5</td>\n",
       "      <td>0.848485</td>\n",
       "    </tr>\n",
       "    <tr>\n",
       "      <th>2</th>\n",
       "      <td>Pi Day 2020</td>\n",
       "      <td>Pi Day</td>\n",
       "      <td>5</td>\n",
       "      <td>0.848485</td>\n",
       "    </tr>\n",
       "  </tbody>\n",
       "</table>\n",
       "</div>"
      ],
      "text/plain": [
       "   firststring secondstring  thedistance  jaro_distance\n",
       "5       Pi Day  Pi Day 2020            5       0.848485\n",
       "2  Pi Day 2020       Pi Day            5       0.848485"
      ]
     },
     "execution_count": 83,
     "metadata": {},
     "output_type": "execute_result"
    }
   ],
   "source": [
    "ldistance_df[(ldistance_df['thedistance'] <6) & (ldistance_df['firststring'] != ldistance_df['secondstring'])]"
   ]
  },
  {
   "cell_type": "markdown",
   "metadata": {},
   "source": [
    "## PyTrends"
   ]
  },
  {
   "cell_type": "code",
   "execution_count": 10,
   "metadata": {},
   "outputs": [],
   "source": [
    "trends = pytrends.trending_searches()\n",
    "trends.columns = ['trend']"
   ]
  },
  {
   "cell_type": "code",
   "execution_count": 11,
   "metadata": {},
   "outputs": [],
   "source": [
    "trends_trans = pd.DataFrame(trends.T).reset_index(drop=True)"
   ]
  },
  {
   "cell_type": "code",
   "execution_count": null,
   "metadata": {},
   "outputs": [],
   "source": []
  }
 ],
 "metadata": {
  "kernelspec": {
   "display_name": "Python 3",
   "language": "python",
   "name": "python3"
  },
  "language_info": {
   "codemirror_mode": {
    "name": "ipython",
    "version": 3
   },
   "file_extension": ".py",
   "mimetype": "text/x-python",
   "name": "python",
   "nbconvert_exporter": "python",
   "pygments_lexer": "ipython3",
   "version": "3.7.4"
  }
 },
 "nbformat": 4,
 "nbformat_minor": 4
}
